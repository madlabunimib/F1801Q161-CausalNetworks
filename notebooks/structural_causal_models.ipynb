{
  "cells": [
    {
      "cell_type": "code",
      "execution_count": 1,
      "metadata": {
        "id": "GPXOW8nctecx"
      },
      "outputs": [],
      "source": [
        "%%capture\n",
        "!pip install networkx numpy pandas statsmodels"
      ]
    },
    {
      "cell_type": "code",
      "execution_count": 2,
      "metadata": {
        "id": "HgH3yxoLtec0"
      },
      "outputs": [],
      "source": [
        "import networkx as nx\n",
        "import numpy as np\n",
        "import pandas as pd\n",
        "import statsmodels.api as sm\n",
        "from typing import Set"
      ]
    },
    {
      "cell_type": "markdown",
      "metadata": {
        "id": "k6iVnojstec0"
      },
      "source": [
        "# Structural Causal Models"
      ]
    },
    {
      "cell_type": "markdown",
      "metadata": {
        "id": "TZBp7bJ_tec1"
      },
      "source": [
        "By Alessio Zanga, Niccolò Rocchi and Fabio Stella"
      ]
    },
    {
      "cell_type": "markdown",
      "metadata": {
        "id": "4JwQIGgMtec2"
      },
      "source": [
        "## Abstract"
      ]
    },
    {
      "cell_type": "markdown",
      "metadata": {
        "id": "UgOcuoaatec2"
      },
      "source": [
        "This notebook illustrates a step-by-step example on estimating the average causal effect (ACE) given the appropriate backdoor adjustment set."
      ]
    },
    {
      "cell_type": "markdown",
      "metadata": {
        "id": "hvRFCtNZtec2"
      },
      "source": [
        "## Introduction"
      ]
    },
    {
      "cell_type": "markdown",
      "metadata": {
        "id": "J9pg0Plytec3"
      },
      "source": [
        "Continuing from [the previous example](https://colab.research.google.com/github/madlabunimib/F1801Q161-CausalNetworks/blob/main/notebooks/potential_outcomes.ipynb), the complete **systolic blood pressure** vs **sodium intake** causal graph is represented below."
      ]
    },
    {
      "cell_type": "code",
      "execution_count": 3,
      "metadata": {
        "colab": {
          "base_uri": "https://localhost:8080/",
          "height": 406
        },
        "id": "7eoQjLNitec3",
        "outputId": "4486193d-def8-4f77-a142-3cd458e392c7"
      },
      "outputs": [
        {
          "data": {
            "image/png": "[encoded data removed]",
            "text/plain": [
              "<Figure size 640x480 with 1 Axes>"
            ]
          },
          "metadata": {},
          "output_type": "display_data"
        }
      ],
      "source": [
        "G = nx.DiGraph()\n",
        "E_U = [(\"$U_{AGE}$\", \"AGE\"), (\"$U_{SOD}$\", \"SOD\"), (\"$U_{SBP}$\", \"SBP\"), (\"$U_{PRO}$\", \"PRO\")]\n",
        "E_V = [(\"SOD\", \"SBP\"), (\"AGE\", \"SOD\"), (\"AGE\", \"SBP\"), (\"SOD\", \"PRO\"), (\"SBP\", \"PRO\")]\n",
        "G.add_edges_from(E_U + E_V)                                       # Add exogenous and endogenous edges to graph\n",
        "pos = nx.circular_layout(G)                                       # Predefine graph layout\n",
        "_ = nx.draw_networkx_labels(G, pos)                               # Plot node labels\n",
        "sty = {\"min_source_margin\": 12, \"min_target_margin\": 12}          # Set min distance from labels\n",
        "_ = nx.draw_networkx_edges(G, pos, E_U, style=\"dashed\", **sty)    # Plot dashed exogenous edges\n",
        "_ = nx.draw_networkx_edges(G, pos, E_V, style=\"solid\", **sty)     # Plot solid endogenous edges"
      ]
    },
    {
      "cell_type": "markdown",
      "metadata": {
        "id": "6AY0hiCBtec4"
      },
      "source": [
        "You are now able to match the previous **causal graph** to the sampling function, defining the associated **structural causal model (SCM)**.\n",
        "\n",
        "The complete specification of the casual model $\\mathcal{M}$ is given by $\\mathcal{M} = <U, V, F>$, where:\n",
        "\n",
        "- $U = \\{ U_{AGE}, \\, U_{SOD}, \\, U_{SBP}, \\, U_{PRO} \\}$,\n",
        "- $V = \\{ AGE, \\, SOD, \\, SBP, \\, PRO \\}$,\n",
        "- $F = \\{ f_{AGE}, f_{SOD}, f_{SBP}, f_{PRO} \\}$."
      ]
    },
    {
      "cell_type": "code",
      "execution_count": 4,
      "metadata": {
        "id": "XYr4nsOCtec5"
      },
      "outputs": [],
      "source": [
        "def sample_data(size: int = int(1e6), seed: int = 31):\n",
        "    # Set random generator seed for results reproducibility\n",
        "    np.random.seed(seed)\n",
        "    # Sample age with mean 65 and std 5\n",
        "    age = np.random.normal(65, 5, size)\n",
        "    # Sample sodium with additive noise\n",
        "    sod = 0.056 * age + np.random.normal(0, 1, size)\n",
        "    # Binarize sodium following cutoff\n",
        "    sod = (sod > 3.5).astype(int)\n",
        "    # Sample systolic blood pressure\n",
        "    sbp = 1.05 * sod + 2 * age + np.random.normal(0, 1, size)\n",
        "    # Sample urinary protein\n",
        "    pro = 0.4 * sod + 0.3 * sbp + np.random.normal(0, 1, size)\n",
        "    # Create a dataframe from sampled variables\n",
        "    return pd.DataFrame({\"AGE\": age, \"SOD\": sod, \"SBP\": sbp, \"PRO\": pro})"
      ]
    },
    {
      "cell_type": "markdown",
      "metadata": {
        "id": "OfM7E36Jtec5"
      },
      "source": [
        "Indeed, each line in this sampling function is a **structural equation** related to the **causal graph**:\n",
        "\n",
        "\n",
        "\\begin{cases}\n",
        "AGE := f_{AGE}(U_{AGE}) = \\mathcal{N}(65, 5) = 65 + \\sqrt{5}\\mathcal{N}(0, 1) \\\\\n",
        "SOD := f_{SOD}(AGE, U_{SOD}) = I\\left[0.056 \\cdot AGE + \\mathcal{N}(0, 1)\\right] > 3.50 \\\\\n",
        "SBP := f_{SBP}(AGE, SOD, U_{SBP}) = 1.05 \\cdot SOD + 2.00 \\cdot AGE + \\mathcal{N}(0, 1) \\\\\n",
        "PRO := f_{PRO}(SOD, SBP, U_{PRO}) = 0.40 \\cdot SOD + 0.30 \\cdot SBP + \\mathcal{N}(0, 1)\n",
        "\\end{cases}"
      ]
    },
    {
      "cell_type": "markdown",
      "metadata": {
        "id": "rUprVpbutec6"
      },
      "source": [
        "where $\\mathcal{N}(\\mu, \\sigma^2)$ is a Gaussian noise with $\\mu$ mean and $\\sigma$ standard deviation and $I[X > x]$ is the indicator function."
      ]
    },
    {
      "cell_type": "markdown",
      "metadata": {
        "id": "kbPBvWDUtec6"
      },
      "source": [
        "Recall that the true ACE is given by the coefficient 1.05 that assign SBP a value given SOD."
      ]
    },
    {
      "cell_type": "code",
      "execution_count": 5,
      "metadata": {
        "colab": {
          "base_uri": "https://localhost:8080/",
          "height": 300
        },
        "id": "FIa81Gzgtec6",
        "outputId": "b034f888-bacc-41ea-987d-2e42bef28742"
      },
      "outputs": [
        {
          "data": {
            "text/html": [
              "\n",
              "  <div id=\"df-70459345-c264-4fb9-93a9-4f3fd62654c2\" class=\"colab-df-container\">\n",
              "    <div>\n",
              "<style scoped>\n",
              "    .dataframe tbody tr th:only-of-type {\n",
              "        vertical-align: middle;\n",
              "    }\n",
              "\n",
              "    .dataframe tbody tr th {\n",
              "        vertical-align: top;\n",
              "    }\n",
              "\n",
              "    .dataframe thead th {\n",
              "        text-align: right;\n",
              "    }\n",
              "</style>\n",
              "<table border=\"1\" class=\"dataframe\">\n",
              "  <thead>\n",
              "    <tr style=\"text-align: right;\">\n",
              "      <th></th>\n",
              "      <th>AGE</th>\n",
              "      <th>SOD</th>\n",
              "      <th>SBP</th>\n",
              "      <th>PRO</th>\n",
              "    </tr>\n",
              "  </thead>\n",
              "  <tbody>\n",
              "    <tr>\n",
              "      <th>count</th>\n",
              "      <td>1000000.000000</td>\n",
              "      <td>1000000.000000</td>\n",
              "      <td>1000000.000000</td>\n",
              "      <td>1000000.000000</td>\n",
              "    </tr>\n",
              "    <tr>\n",
              "      <th>mean</th>\n",
              "      <td>65.001134</td>\n",
              "      <td>0.552995</td>\n",
              "      <td>130.583161</td>\n",
              "      <td>39.396720</td>\n",
              "    </tr>\n",
              "    <tr>\n",
              "      <th>std</th>\n",
              "      <td>4.993518</td>\n",
              "      <td>0.497184</td>\n",
              "      <td>10.161539</td>\n",
              "      <td>3.263477</td>\n",
              "    </tr>\n",
              "    <tr>\n",
              "      <th>min</th>\n",
              "      <td>40.964418</td>\n",
              "      <td>0.000000</td>\n",
              "      <td>82.816817</td>\n",
              "      <td>24.421988</td>\n",
              "    </tr>\n",
              "    <tr>\n",
              "      <th>25%</th>\n",
              "      <td>61.627703</td>\n",
              "      <td>0.000000</td>\n",
              "      <td>123.720103</td>\n",
              "      <td>37.190745</td>\n",
              "    </tr>\n",
              "    <tr>\n",
              "      <th>50%</th>\n",
              "      <td>65.009236</td>\n",
              "      <td>1.000000</td>\n",
              "      <td>130.597297</td>\n",
              "      <td>39.402344</td>\n",
              "    </tr>\n",
              "    <tr>\n",
              "      <th>75%</th>\n",
              "      <td>68.372794</td>\n",
              "      <td>1.000000</td>\n",
              "      <td>137.445514</td>\n",
              "      <td>41.602773</td>\n",
              "    </tr>\n",
              "    <tr>\n",
              "      <th>max</th>\n",
              "      <td>87.717317</td>\n",
              "      <td>1.000000</td>\n",
              "      <td>176.708462</td>\n",
              "      <td>54.573313</td>\n",
              "    </tr>\n",
              "  </tbody>\n",
              "</table>\n",
              "</div>\n",
              "    <div class=\"colab-df-buttons\">\n",
              "\n",
              "  <div class=\"colab-df-container\">\n",
              "    <button class=\"colab-df-convert\" onclick=\"convertToInteractive('df-70459345-c264-4fb9-93a9-4f3fd62654c2')\"\n",
              "            title=\"Convert this dataframe to an interactive table.\"\n",
              "            style=\"display:none;\">\n",
              "\n",
              "  <svg xmlns=\"http://www.w3.org/2000/svg\" height=\"24px\" viewBox=\"0 -960 960 960\">\n",
              "    <path d=\"M120-120v-720h720v720H120Zm60-500h600v-160H180v160Zm220 220h160v-160H400v160Zm0 220h160v-160H400v160ZM180-400h160v-160H180v160Zm440 0h160v-160H620v160ZM180-180h160v-160H180v160Zm440 0h160v-160H620v160Z\"/>\n",
              "  </svg>\n",
              "    </button>\n",
              "\n",
              "  <style>\n",
              "    .colab-df-container {\n",
              "      display:flex;\n",
              "      gap: 12px;\n",
              "    }\n",
              "\n",
              "    .colab-df-convert {\n",
              "      background-color: #E8F0FE;\n",
              "      border: none;\n",
              "      border-radius: 50%;\n",
              "      cursor: pointer;\n",
              "      display: none;\n",
              "      fill: #1967D2;\n",
              "      height: 32px;\n",
              "      padding: 0 0 0 0;\n",
              "      width: 32px;\n",
              "    }\n",
              "\n",
              "    .colab-df-convert:hover {\n",
              "      background-color: #E2EBFA;\n",
              "      box-shadow: 0px 1px 2px rgba(60, 64, 67, 0.3), 0px 1px 3px 1px rgba(60, 64, 67, 0.15);\n",
              "      fill: #174EA6;\n",
              "    }\n",
              "\n",
              "    .colab-df-buttons div {\n",
              "      margin-bottom: 4px;\n",
              "    }\n",
              "\n",
              "    [theme=dark] .colab-df-convert {\n",
              "      background-color: #3B4455;\n",
              "      fill: #D2E3FC;\n",
              "    }\n",
              "\n",
              "    [theme=dark] .colab-df-convert:hover {\n",
              "      background-color: #434B5C;\n",
              "      box-shadow: 0px 1px 3px 1px rgba(0, 0, 0, 0.15);\n",
              "      filter: drop-shadow(0px 1px 2px rgba(0, 0, 0, 0.3));\n",
              "      fill: #FFFFFF;\n",
              "    }\n",
              "  </style>\n",
              "\n",
              "    <script>\n",
              "      const buttonEl =\n",
              "        document.querySelector('#df-70459345-c264-4fb9-93a9-4f3fd62654c2 button.colab-df-convert');\n",
              "      buttonEl.style.display =\n",
              "        google.colab.kernel.accessAllowed ? 'block' : 'none';\n",
              "\n",
              "      async function convertToInteractive(key) {\n",
              "        const element = document.querySelector('#df-70459345-c264-4fb9-93a9-4f3fd62654c2');\n",
              "        const dataTable =\n",
              "          await google.colab.kernel.invokeFunction('convertToInteractive',\n",
              "                                                    [key], {});\n",
              "        if (!dataTable) return;\n",
              "\n",
              "        const docLinkHtml = 'Like what you see? Visit the ' +\n",
              "          '<a target=\"_blank\" href=https://colab.research.google.com/notebooks/data_table.ipynb>data table notebook</a>'\n",
              "          + ' to learn more about interactive tables.';\n",
              "        element.innerHTML = '';\n",
              "        dataTable['output_type'] = 'display_data';\n",
              "        await google.colab.output.renderOutput(dataTable, element);\n",
              "        const docLink = document.createElement('div');\n",
              "        docLink.innerHTML = docLinkHtml;\n",
              "        element.appendChild(docLink);\n",
              "      }\n",
              "    </script>\n",
              "  </div>\n",
              "\n",
              "\n",
              "<div id=\"df-e218fb05-6a04-42c5-a519-4e00aedefed6\">\n",
              "  <button class=\"colab-df-quickchart\" onclick=\"quickchart('df-e218fb05-6a04-42c5-a519-4e00aedefed6')\"\n",
              "            title=\"Suggest charts.\"\n",
              "            style=\"display:none;\">\n",
              "\n",
              "<svg xmlns=\"http://www.w3.org/2000/svg\" height=\"24px\"viewBox=\"0 0 24 24\"\n",
              "     width=\"24px\">\n",
              "    <g>\n",
              "        <path d=\"M19 3H5c-1.1 0-2 .9-2 2v14c0 1.1.9 2 2 2h14c1.1 0 2-.9 2-2V5c0-1.1-.9-2-2-2zM9 17H7v-7h2v7zm4 0h-2V7h2v10zm4 0h-2v-4h2v4z\"/>\n",
              "    </g>\n",
              "</svg>\n",
              "  </button>\n",
              "\n",
              "<style>\n",
              "  .colab-df-quickchart {\n",
              "      --bg-color: #E8F0FE;\n",
              "      --fill-color: #1967D2;\n",
              "      --hover-bg-color: #E2EBFA;\n",
              "      --hover-fill-color: #174EA6;\n",
              "      --disabled-fill-color: #AAA;\n",
              "      --disabled-bg-color: #DDD;\n",
              "  }\n",
              "\n",
              "  [theme=dark] .colab-df-quickchart {\n",
              "      --bg-color: #3B4455;\n",
              "      --fill-color: #D2E3FC;\n",
              "      --hover-bg-color: #434B5C;\n",
              "      --hover-fill-color: #FFFFFF;\n",
              "      --disabled-bg-color: #3B4455;\n",
              "      --disabled-fill-color: #666;\n",
              "  }\n",
              "\n",
              "  .colab-df-quickchart {\n",
              "    background-color: var(--bg-color);\n",
              "    border: none;\n",
              "    border-radius: 50%;\n",
              "    cursor: pointer;\n",
              "    display: none;\n",
              "    fill: var(--fill-color);\n",
              "    height: 32px;\n",
              "    padding: 0;\n",
              "    width: 32px;\n",
              "  }\n",
              "\n",
              "  .colab-df-quickchart:hover {\n",
              "    background-color: var(--hover-bg-color);\n",
              "    box-shadow: 0 1px 2px rgba(60, 64, 67, 0.3), 0 1px 3px 1px rgba(60, 64, 67, 0.15);\n",
              "    fill: var(--button-hover-fill-color);\n",
              "  }\n",
              "\n",
              "  .colab-df-quickchart-complete:disabled,\n",
              "  .colab-df-quickchart-complete:disabled:hover {\n",
              "    background-color: var(--disabled-bg-color);\n",
              "    fill: var(--disabled-fill-color);\n",
              "    box-shadow: none;\n",
              "  }\n",
              "\n",
              "  .colab-df-spinner {\n",
              "    border: 2px solid var(--fill-color);\n",
              "    border-color: transparent;\n",
              "    border-bottom-color: var(--fill-color);\n",
              "    animation:\n",
              "      spin 1s steps(1) infinite;\n",
              "  }\n",
              "\n",
              "  @keyframes spin {\n",
              "    0% {\n",
              "      border-color: transparent;\n",
              "      border-bottom-color: var(--fill-color);\n",
              "      border-left-color: var(--fill-color);\n",
              "    }\n",
              "    20% {\n",
              "      border-color: transparent;\n",
              "      border-left-color: var(--fill-color);\n",
              "      border-top-color: var(--fill-color);\n",
              "    }\n",
              "    30% {\n",
              "      border-color: transparent;\n",
              "      border-left-color: var(--fill-color);\n",
              "      border-top-color: var(--fill-color);\n",
              "      border-right-color: var(--fill-color);\n",
              "    }\n",
              "    40% {\n",
              "      border-color: transparent;\n",
              "      border-right-color: var(--fill-color);\n",
              "      border-top-color: var(--fill-color);\n",
              "    }\n",
              "    60% {\n",
              "      border-color: transparent;\n",
              "      border-right-color: var(--fill-color);\n",
              "    }\n",
              "    80% {\n",
              "      border-color: transparent;\n",
              "      border-right-color: var(--fill-color);\n",
              "      border-bottom-color: var(--fill-color);\n",
              "    }\n",
              "    90% {\n",
              "      border-color: transparent;\n",
              "      border-bottom-color: var(--fill-color);\n",
              "    }\n",
              "  }\n",
              "</style>\n",
              "\n",
              "  <script>\n",
              "    async function quickchart(key) {\n",
              "      const quickchartButtonEl =\n",
              "        document.querySelector('#' + key + ' button');\n",
              "      quickchartButtonEl.disabled = true;  // To prevent multiple clicks.\n",
              "      quickchartButtonEl.classList.add('colab-df-spinner');\n",
              "      try {\n",
              "        const charts = await google.colab.kernel.invokeFunction(\n",
              "            'suggestCharts', [key], {});\n",
              "      } catch (error) {\n",
              "        console.error('Error during call to suggestCharts:', error);\n",
              "      }\n",
              "      quickchartButtonEl.classList.remove('colab-df-spinner');\n",
              "      quickchartButtonEl.classList.add('colab-df-quickchart-complete');\n",
              "    }\n",
              "    (() => {\n",
              "      let quickchartButtonEl =\n",
              "        document.querySelector('#df-e218fb05-6a04-42c5-a519-4e00aedefed6 button');\n",
              "      quickchartButtonEl.style.display =\n",
              "        google.colab.kernel.accessAllowed ? 'block' : 'none';\n",
              "    })();\n",
              "  </script>\n",
              "</div>\n",
              "    </div>\n",
              "  </div>\n"
            ],
            "text/plain": [
              "                  AGE             SOD             SBP             PRO\n",
              "count  1000000.000000  1000000.000000  1000000.000000  1000000.000000\n",
              "mean        65.001134        0.552995      130.583161       39.396720\n",
              "std          4.993518        0.497184       10.161539        3.263477\n",
              "min         40.964418        0.000000       82.816817       24.421988\n",
              "25%         61.627703        0.000000      123.720103       37.190745\n",
              "50%         65.009236        1.000000      130.597297       39.402344\n",
              "75%         68.372794        1.000000      137.445514       41.602773\n",
              "max         87.717317        1.000000      176.708462       54.573313"
            ]
          },
          "execution_count": 5,
          "metadata": {},
          "output_type": "execute_result"
        }
      ],
      "source": [
        "data = sample_data()\n",
        "data.describe()"
      ]
    },
    {
      "cell_type": "markdown",
      "metadata": {
        "id": "c_RvLud_tec6"
      },
      "source": [
        "## Methods"
      ]
    },
    {
      "cell_type": "markdown",
      "metadata": {
        "id": "RiTvVVWjtec7"
      },
      "source": [
        "Assuming consistency, positivity, and unconfoundedness, the average causal effect (ACE) is defined:"
      ]
    },
    {
      "cell_type": "code",
      "execution_count": null,
      "metadata": {
        "id": "9Gw7m0iRtec7"
      },
      "outputs": [],
      "source": [
        "def ACE(data: pd.DataFrame, X: str, Y: str, Z: Set[str]):\n",
        "    # Define the regression model formula\n",
        "    formula = f\"{Y} ~ {X}\"\n",
        "    if len(Z) != 0: formula += \"+\" + \"+\".join(Z)\n",
        "    # Fit Ordinary Least Square regression model\n",
        "    estimator = sm.OLS.from_formula(formula, data).fit()\n",
        "    # Compute potential outcomes by fixing X\n",
        "    Y1 = estimator.predict(data.assign(**{X: 1}))\n",
        "    Y0 = estimator.predict(data.assign(**{X: 0}))\n",
        "    # Compute average causal effect\n",
        "    return np.mean(Y1 - Y0)"
      ]
    },
    {
      "cell_type": "markdown",
      "metadata": {
        "id": "_I2ZsuIXtec7"
      },
      "source": [
        "A set of variables **Z** satisfies the backdoor criterion relative to an ordered pair of variables (X, Y) if:\n",
        "\n",
        "- No node in **Z** is a descendant of X; and\n",
        "- **Z** blocks every path between X and Y that contains an arrow into X.\n",
        "\n",
        "While the former condition is clearly stated, the latter could be obscure and should be investigated further. Stating that **\"Z blocks every path (...)\"** might be misleading. In this context, **blocking** is intended as **d-separing**, which maps the first part to **\"Z d-separes every path (...)\"**. Moreover, **\"(...) that contains an arrow into X\"** is a convoluted expression which refers to the **parents of X**."
      ]
    },
    {
      "cell_type": "code",
      "execution_count": 7,
      "metadata": {
        "id": "FrsS2e0stec7"
      },
      "outputs": [],
      "source": [
        "def is_d_separated(G: nx.DiGraph, X: Set[str], Y: Set[str], Z: Set[str]) -> bool:\n",
        "    # If X, Y, Z are not disjoint, then X and Y are d-separated by default\n",
        "    if X & Z or Y & Z:\n",
        "        return True\n",
        "    return nx.is_d_separator(G, X, Y, Z)"
      ]
    },
    {
      "cell_type": "markdown",
      "metadata": {
        "id": "wrYFRlLLtec8"
      },
      "source": [
        "One might be tempted to translate this condition as:\n",
        "$$\n",
        "Pa(X) \\perp \\!\\!\\! \\perp_G Y~ | ~\\textbf{Z}\n",
        "$$\n",
        "but it would be incomplete: following the definition of d-separation, X, Y and **Z** are required to be disjoint. Therefore,  **Z** alone would not be sufficient to block *every path between X and Y*, indeed some *direct* path from X to Y is still open. The correct translation is:\n",
        "$$\n",
        "Pa(X) \\perp \\!\\!\\! \\perp_G Y~|~\\textbf{Z} \\cup \\{ X \\}\n",
        "$$\n",
        "where X itself blocks the direct path from X to Y, while **Z** blocks any *indirect* path from $Pa(X)$ to $Y$."
      ]
    },
    {
      "cell_type": "code",
      "execution_count": 8,
      "metadata": {
        "id": "MMOtNvUatec8"
      },
      "outputs": [],
      "source": [
        "def is_backdoor_adjustement_set(G: nx.DiGraph, X: str, Y: str, Z: Set[str]) -> bool:\n",
        "    # (i) no node in Z is a descendant of X; and\n",
        "    if Z & nx.descendants(G, X):\n",
        "        return False\n",
        "    # (ii) Z blocks every path between X and Y that contains an arrow into X.\n",
        "    return all(is_d_separated(G, {W}, {Y}, Z | {X}) for W in G.predecessors(X))"
      ]
    },
    {
      "cell_type": "markdown",
      "metadata": {
        "id": "pZz_V0fetec8"
      },
      "source": [
        "## Results"
      ]
    },
    {
      "cell_type": "markdown",
      "metadata": {
        "id": "u1uDhipbtec8"
      },
      "source": [
        "The true ACE is:"
      ]
    },
    {
      "cell_type": "code",
      "execution_count": 9,
      "metadata": {
        "id": "8A9FCCUXtec8"
      },
      "outputs": [],
      "source": [
        "ace = 1.05"
      ]
    },
    {
      "cell_type": "markdown",
      "metadata": {
        "id": "jL39spFOtec8"
      },
      "source": [
        "The naive estimated ACE without adjustment is:"
      ]
    },
    {
      "cell_type": "code",
      "execution_count": 10,
      "metadata": {
        "colab": {
          "base_uri": "https://localhost:8080/",
          "height": 35
        },
        "id": "r5WudysRtec9",
        "outputId": "2c288504-5716-4feb-8afd-62ba5b201f07"
      },
      "outputs": [
        {
          "data": {
            "application/vnd.google.colaboratory.intrinsic+json": {
              "type": "string"
            },
            "text/plain": [
              "'Estimated ACE: 5.37, Relative Error: 411.5%'"
            ]
          },
          "execution_count": 10,
          "metadata": {},
          "output_type": "execute_result"
        }
      ],
      "source": [
        "t = ACE(data, X = \"SOD\", Y = \"SBP\", Z = set())\n",
        "f\"Estimated ACE: {t:.3}, Relative Error: {(np.abs((t-ace)/ace*100)):.4}%\""
      ]
    },
    {
      "cell_type": "markdown",
      "metadata": {
        "id": "5IK_22GaiARS"
      },
      "source": [
        "Indeed it exists a backdoor path between $X$ and $Y$, thus the empty set is not a valid adjustment set since it doesn't block this backdoor path:"
      ]
    },
    {
      "cell_type": "code",
      "execution_count": 11,
      "metadata": {
        "colab": {
          "base_uri": "https://localhost:8080/"
        },
        "id": "oGWmRHEgiINE",
        "outputId": "045e7a48-77e3-418d-f125-170cff57bd04"
      },
      "outputs": [
        {
          "data": {
            "text/plain": [
              "False"
            ]
          },
          "execution_count": 11,
          "metadata": {},
          "output_type": "execute_result"
        }
      ],
      "source": [
        "is_backdoor_adjustement_set(G, X = \"SOD\", Y = \"SBP\", Z = set())"
      ]
    },
    {
      "cell_type": "markdown",
      "metadata": {
        "id": "KvtY6Ngqtec9"
      },
      "source": [
        "The estimated ACE adjusting for AGE and PRO is:"
      ]
    },
    {
      "cell_type": "code",
      "execution_count": 12,
      "metadata": {
        "colab": {
          "base_uri": "https://localhost:8080/",
          "height": 35
        },
        "id": "GrWXNHYVtec9",
        "outputId": "7da11ef1-f5db-4423-8f50-5ad40f69a890"
      },
      "outputs": [
        {
          "data": {
            "application/vnd.google.colaboratory.intrinsic+json": {
              "type": "string"
            },
            "text/plain": [
              "'Estimated ACE: 0.856, Relative Error: 18.46%'"
            ]
          },
          "execution_count": 12,
          "metadata": {},
          "output_type": "execute_result"
        }
      ],
      "source": [
        "t = ACE(data, X = \"SOD\", Y = \"SBP\", Z = {\"AGE\", \"PRO\"})\n",
        "f\"Estimated ACE: {t:.3}, Relative Error: {(np.abs((t-ace)/ace*100)):.4}%\""
      ]
    },
    {
      "cell_type": "markdown",
      "metadata": {
        "id": "276C9Ge-tec9"
      },
      "source": [
        "Let's check if $Z = \\{ AGE, PRO \\}$ is a backdoor adjustment set:"
      ]
    },
    {
      "cell_type": "code",
      "execution_count": 13,
      "metadata": {
        "colab": {
          "base_uri": "https://localhost:8080/"
        },
        "id": "kvByhmQPtec9",
        "outputId": "8cb6ecb1-e8fd-4cc2-ae79-b1cd310deef1"
      },
      "outputs": [
        {
          "data": {
            "text/plain": [
              "False"
            ]
          },
          "execution_count": 13,
          "metadata": {},
          "output_type": "execute_result"
        }
      ],
      "source": [
        "is_backdoor_adjustement_set(G, X = \"SOD\", Y = \"SBP\", Z = {\"AGE\", \"PRO\"})"
      ]
    },
    {
      "cell_type": "markdown",
      "metadata": {
        "id": "iFGxjJXctec9"
      },
      "source": [
        "Indeed, we add bias by conditioning on $PRO$ since it is a collider. Let's check if $Z$ **without** $PRO$ is a backdoor adjustment set:"
      ]
    },
    {
      "cell_type": "code",
      "execution_count": 14,
      "metadata": {
        "colab": {
          "base_uri": "https://localhost:8080/"
        },
        "id": "OgfpK9hNtec-",
        "outputId": "91885de9-a57c-4aae-cebc-f118d1c32833"
      },
      "outputs": [
        {
          "data": {
            "text/plain": [
              "True"
            ]
          },
          "execution_count": 14,
          "metadata": {},
          "output_type": "execute_result"
        }
      ],
      "source": [
        "is_backdoor_adjustement_set(G, X = \"SOD\", Y = \"SBP\", Z = {\"AGE\"})"
      ]
    },
    {
      "cell_type": "markdown",
      "metadata": {
        "id": "0DEFXYIxtec-"
      },
      "source": [
        "Then, the right estimation of ACE is the one we obtain by adjusting for AGE alone:"
      ]
    },
    {
      "cell_type": "code",
      "execution_count": 15,
      "metadata": {
        "colab": {
          "base_uri": "https://localhost:8080/",
          "height": 35
        },
        "id": "deYLBXa2tec-",
        "outputId": "d2c90d6b-8db7-4a41-9794-c9df2a851652"
      },
      "outputs": [
        {
          "data": {
            "application/vnd.google.colaboratory.intrinsic+json": {
              "type": "string"
            },
            "text/plain": [
              "'Estimated ACE: 1.052, Relative Error: 0.2269%'"
            ]
          },
          "execution_count": 15,
          "metadata": {},
          "output_type": "execute_result"
        }
      ],
      "source": [
        "t = ACE(data, X = \"SOD\", Y = \"SBP\", Z = {\"AGE\"})\n",
        "f\"Estimated ACE: {t:.4}, Relative Error: {(np.abs((t-ace)/ace*100)):.4}%\""
      ]
    },
    {
      "cell_type": "markdown",
      "metadata": {
        "id": "Gm2VWaQetec-"
      },
      "source": [
        "## Conclusions"
      ]
    },
    {
      "cell_type": "markdown",
      "metadata": {
        "id": "oh7HxLpVtec-"
      },
      "source": [
        "Applying a naive regression model without adjustment leads to an estimated ACE which is four times off. A regression model with an adjustment set reduce the relative error to 18%. Instead, using a **backdoor** adjustment set lowered it to 0.2%."
      ]
    },
    {
      "cell_type": "markdown",
      "metadata": {
        "id": "cdQC3qn-oTQW"
      },
      "source": [
        "## Additional material"
      ]
    },
    {
      "cell_type": "markdown",
      "metadata": {
        "id": "JxxQqZYVnEuX"
      },
      "source": [
        "If you want to enjoy your learning, get a look at [DAGitty](https://dagitty.net/dags.html)! It is an interesting web-based graphical tool that allows you to experiment with custom settings and familiarize with Causal Networks concepts."
      ]
    }
  ],
  "metadata": {
    "colab": {
      "provenance": []
    },
    "kernelspec": {
      "display_name": "Python 3",
      "language": "python",
      "name": "python3"
    },
    "language_info": {
      "codemirror_mode": {
        "name": "ipython",
        "version": 3
      },
      "file_extension": ".py",
      "mimetype": "text/x-python",
      "name": "python",
      "nbconvert_exporter": "python",
      "pygments_lexer": "ipython3",
      "version": "3.8.5"
    }
  },
  "nbformat": 4,
  "nbformat_minor": 0
}
